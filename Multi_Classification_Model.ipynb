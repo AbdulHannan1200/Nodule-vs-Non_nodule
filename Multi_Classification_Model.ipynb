{
 "cells": [
  {
   "cell_type": "code",
   "execution_count": 1,
   "metadata": {},
   "outputs": [],
   "source": [
    "import numpy as np\n",
    "import pandas as pd\n",
    "import os\n",
    "import cv2"
   ]
  },
  {
   "cell_type": "code",
   "execution_count": 2,
   "metadata": {},
   "outputs": [],
   "source": [
    "import random"
   ]
  },
  {
   "cell_type": "code",
   "execution_count": 3,
   "metadata": {},
   "outputs": [],
   "source": [
    "def Data_Pre_Processing(DATA_DIR,CATEGORIES):\n",
    "    training_data=[]\n",
    "    IMG_SIZE=200\n",
    "    def create_training_data():\n",
    "        for category in CATEGORIES:\n",
    "            path=os.path.join(DATA_DIR,category) #path to cats and dogs\n",
    "            class_num=CATEGORIES.index(category)\n",
    "            for img in os.listdir(path):\n",
    "                try:\n",
    "                    img_arr=cv2.imread(os.path.join(path,img))\n",
    "                    img_arr=cv2.cvtColor(img_arr, cv2.COLOR_BGR2RGB)\n",
    "                    new_array=cv2.resize(img_arr,(IMG_SIZE,IMG_SIZE))\n",
    "                    training_data.append([new_array,class_num])\n",
    "                except Exception as e:\n",
    "                    pass\n",
    "        \n",
    "    create_training_data()\n",
    "    random.shuffle(training_data)\n",
    "    \n",
    "    X=[]\n",
    "    y=[]\n",
    "\n",
    "    for features,label in training_data:\n",
    "        X.append(features)\n",
    "        y.append(label)\n",
    "\n",
    "\n",
    "    X=np.array(X).reshape(-1,IMG_SIZE,IMG_SIZE,3)\n",
    "\n",
    "\n",
    "    return X,y"
   ]
  },
  {
   "cell_type": "code",
   "execution_count": 4,
   "metadata": {},
   "outputs": [
    {
     "name": "stdout",
     "output_type": "stream",
     "text": [
      "D:\\A.H\\Python\\Fiver_X-ray\\images\n"
     ]
    }
   ],
   "source": [
    "dirname = os.getcwd()\n",
    "imges_folder = \"images\"  \n",
    "DATA_DIR = dirname +\"\\\\\"+imges_folder\n",
    "print(DATA_DIR)"
   ]
  },
  {
   "cell_type": "code",
   "execution_count": 5,
   "metadata": {},
   "outputs": [],
   "source": [
    "categories = ['benign','malignant','non-nodule']"
   ]
  },
  {
   "cell_type": "code",
   "execution_count": 6,
   "metadata": {},
   "outputs": [],
   "source": [
    "X,y = Data_Pre_Processing(DATA_DIR,categories)"
   ]
  },
  {
   "cell_type": "code",
   "execution_count": 7,
   "metadata": {},
   "outputs": [
    {
     "data": {
      "text/plain": [
       "7365"
      ]
     },
     "execution_count": 7,
     "metadata": {},
     "output_type": "execute_result"
    }
   ],
   "source": [
    "len(X)"
   ]
  },
  {
   "cell_type": "code",
   "execution_count": 8,
   "metadata": {},
   "outputs": [
    {
     "name": "stdout",
     "output_type": "stream",
     "text": [
      "1\n",
      "1\n",
      "2\n",
      "1\n",
      "1\n"
     ]
    }
   ],
   "source": [
    "for i in range(5):\n",
    "    print(y[i])"
   ]
  },
  {
   "cell_type": "code",
   "execution_count": 9,
   "metadata": {},
   "outputs": [],
   "source": [
    "input_shape = (200, 200, 3)"
   ]
  },
  {
   "cell_type": "code",
   "execution_count": null,
   "metadata": {},
   "outputs": [],
   "source": []
  },
  {
   "cell_type": "code",
   "execution_count": 10,
   "metadata": {},
   "outputs": [],
   "source": [
    "from tensorflow.keras.applications import vgg16\n",
    "from tensorflow.keras.models import Model\n",
    "import tensorflow.keras"
   ]
  },
  {
   "cell_type": "code",
   "execution_count": 11,
   "metadata": {},
   "outputs": [],
   "source": [
    "from tensorflow.keras.layers import Conv2D, MaxPooling2D, Flatten, Dense, Dropout, InputLayer\n",
    "from tensorflow.keras.models import Sequential\n",
    "from tensorflow.keras import optimizers"
   ]
  },
  {
   "cell_type": "code",
   "execution_count": 12,
   "metadata": {},
   "outputs": [],
   "source": [
    "X_train_multi=X[:6965]\n",
    "X_test_multi=X[6965:]\n",
    "y_train_multi=y[:6965]\n",
    "y_test_multi=y[6965:]"
   ]
  },
  {
   "cell_type": "code",
   "execution_count": 13,
   "metadata": {},
   "outputs": [
    {
     "data": {
      "text/plain": [
       "6965"
      ]
     },
     "execution_count": 13,
     "metadata": {},
     "output_type": "execute_result"
    }
   ],
   "source": [
    "len(X_train_multi)"
   ]
  },
  {
   "cell_type": "code",
   "execution_count": 14,
   "metadata": {},
   "outputs": [
    {
     "data": {
      "text/plain": [
       "400"
      ]
     },
     "execution_count": 14,
     "metadata": {},
     "output_type": "execute_result"
    }
   ],
   "source": [
    "len(X_test_multi)"
   ]
  },
  {
   "cell_type": "code",
   "execution_count": 15,
   "metadata": {},
   "outputs": [],
   "source": [
    "vgg = vgg16.VGG16(include_top=False, weights='imagenet', \n",
    "                                     input_shape=input_shape)\n",
    "\n",
    "output = vgg.layers[-1].output\n",
    "output =tensorflow.keras.layers.Flatten()(output)\n",
    "vgg_model = Model(vgg.input, output)\n",
    "\n",
    "# vgg_model.trainable = False\n",
    "# for layer in vgg_model.layers:\n",
    "#     layer.trainable = False"
   ]
  },
  {
   "cell_type": "code",
   "execution_count": 16,
   "metadata": {},
   "outputs": [],
   "source": [
    "vgg_model.trainable = True\n",
    "\n",
    "set_trainable = False\n",
    "for layer in vgg_model.layers:\n",
    "    if layer.name in ['block5_conv1', 'block4_conv1']:\n",
    "        set_trainable = True\n",
    "    if set_trainable:\n",
    "        layer.trainable = True\n",
    "    else:\n",
    "        layer.trainable = False"
   ]
  },
  {
   "cell_type": "code",
   "execution_count": 17,
   "metadata": {},
   "outputs": [
    {
     "name": "stdout",
     "output_type": "stream",
     "text": [
      "Model: \"sequential\"\n",
      "_________________________________________________________________\n",
      "Layer (type)                 Output Shape              Param #   \n",
      "=================================================================\n",
      "model (Model)                (None, 18432)             14714688  \n",
      "_________________________________________________________________\n",
      "dense (Dense)                (None, 512)               9437696   \n",
      "_________________________________________________________________\n",
      "dropout (Dropout)            (None, 512)               0         \n",
      "_________________________________________________________________\n",
      "dense_1 (Dense)              (None, 512)               262656    \n",
      "_________________________________________________________________\n",
      "dropout_1 (Dropout)          (None, 512)               0         \n",
      "_________________________________________________________________\n",
      "dense_2 (Dense)              (None, 3)                 1539      \n",
      "=================================================================\n",
      "Total params: 24,416,579\n",
      "Trainable params: 22,681,091\n",
      "Non-trainable params: 1,735,488\n",
      "_________________________________________________________________\n"
     ]
    }
   ],
   "source": [
    "multi_model = Sequential()\n",
    "multi_model.add(vgg_model)\n",
    "multi_model.add(Dense(512, activation='relu', input_dim=input_shape))\n",
    "multi_model.add(Dropout(0.3))\n",
    "multi_model.add(Dense(512, activation='relu'))\n",
    "multi_model.add(Dropout(0.3))\n",
    "multi_model.add(Dense(3, activation='softmax'))\n",
    "\n",
    "multi_model.compile(loss='sparse_categorical_crossentropy',\n",
    "              optimizer=optimizers.RMSprop(lr=1e-5),\n",
    "              metrics=['accuracy'])\n",
    "              \n",
    "multi_model.summary()"
   ]
  },
  {
   "cell_type": "code",
   "execution_count": 18,
   "metadata": {},
   "outputs": [
    {
     "name": "stdout",
     "output_type": "stream",
     "text": [
      "Train on 5572 samples, validate on 1393 samples\n",
      "Epoch 1/10\n",
      "5572/5572 [==============================] - 1577s 283ms/sample - loss: 1.6254 - accuracy: 0.3911 - val_loss: 1.0085 - val_accuracy: 0.4860\n",
      "Epoch 2/10\n",
      "5572/5572 [==============================] - 1577s 283ms/sample - loss: 0.9652 - accuracy: 0.5196 - val_loss: 0.8587 - val_accuracy: 0.5836\n",
      "Epoch 3/10\n",
      "5572/5572 [==============================] - 1575s 283ms/sample - loss: 0.7963 - accuracy: 0.6387 - val_loss: 0.8579 - val_accuracy: 0.6102\n",
      "Epoch 4/10\n",
      "5572/5572 [==============================] - 1571s 282ms/sample - loss: 0.6416 - accuracy: 0.7157 - val_loss: 0.6705 - val_accuracy: 0.6892\n",
      "Epoch 5/10\n",
      "5572/5572 [==============================] - 1572s 282ms/sample - loss: 0.4752 - accuracy: 0.8053 - val_loss: 0.5889 - val_accuracy: 0.7430\n",
      "Epoch 6/10\n",
      "5572/5572 [==============================] - 3586s 644ms/sample - loss: 0.3317 - accuracy: 0.8758 - val_loss: 0.4870 - val_accuracy: 0.8069\n",
      "Epoch 7/10\n",
      "5572/5572 [==============================] - 1607s 288ms/sample - loss: 0.2299 - accuracy: 0.9156 - val_loss: 0.3204 - val_accuracy: 0.8729\n",
      "Epoch 8/10\n",
      "5572/5572 [==============================] - 1788s 321ms/sample - loss: 0.1374 - accuracy: 0.9510 - val_loss: 0.4599 - val_accuracy: 0.8492\n",
      "Epoch 9/10\n",
      "5572/5572 [==============================] - 1579s 283ms/sample - loss: 0.0962 - accuracy: 0.9666 - val_loss: 0.2641 - val_accuracy: 0.9074\n",
      "Epoch 10/10\n",
      "5572/5572 [==============================] - 1570s 282ms/sample - loss: 0.0627 - accuracy: 0.9801 - val_loss: 0.3251 - val_accuracy: 0.8916\n"
     ]
    }
   ],
   "source": [
    "history = multi_model.fit(X_train_multi,np.array(y_train_multi),epochs=10,\n",
    "                              validation_split=0.2)"
   ]
  },
  {
   "cell_type": "code",
   "execution_count": 19,
   "metadata": {},
   "outputs": [],
   "source": [
    "import h5py"
   ]
  },
  {
   "cell_type": "code",
   "execution_count": 20,
   "metadata": {},
   "outputs": [],
   "source": [
    "multi_model.save(\"multi_model.h5\")"
   ]
  },
  {
   "cell_type": "code",
   "execution_count": 21,
   "metadata": {},
   "outputs": [
    {
     "data": {
      "text/plain": [
       "{'loss': [1.625365051192854,\n",
       "  0.965166056789431,\n",
       "  0.7963351701885697,\n",
       "  0.6415768839092625,\n",
       "  0.47517201807202836,\n",
       "  0.33167432968512084,\n",
       "  0.2298739261454545,\n",
       "  0.13739870500410536,\n",
       "  0.09619006321131006,\n",
       "  0.06271730619537018],\n",
       " 'accuracy': [0.39106247,\n",
       "  0.5195621,\n",
       "  0.63872933,\n",
       "  0.7157215,\n",
       "  0.8052764,\n",
       "  0.8758076,\n",
       "  0.91564965,\n",
       "  0.95100504,\n",
       "  0.96661884,\n",
       "  0.980079],\n",
       " 'val_loss': [1.0084933931675217,\n",
       "  0.8587054334693218,\n",
       "  0.857878712510686,\n",
       "  0.6704948069547803,\n",
       "  0.5888740035243284,\n",
       "  0.48698797567405894,\n",
       "  0.32036035461384704,\n",
       "  0.4599316322324264,\n",
       "  0.2640661089778032,\n",
       "  0.32507382379276495],\n",
       " 'val_accuracy': [0.48600143,\n",
       "  0.58363247,\n",
       "  0.61019385,\n",
       "  0.6891601,\n",
       "  0.74300075,\n",
       "  0.8068916,\n",
       "  0.8729361,\n",
       "  0.8492462,\n",
       "  0.9073941,\n",
       "  0.89160085]}"
      ]
     },
     "execution_count": 21,
     "metadata": {},
     "output_type": "execute_result"
    }
   ],
   "source": [
    "history.history"
   ]
  },
  {
   "cell_type": "code",
   "execution_count": 22,
   "metadata": {},
   "outputs": [],
   "source": [
    "import matplotlib.pyplot as plt"
   ]
  },
  {
   "cell_type": "code",
   "execution_count": 23,
   "metadata": {},
   "outputs": [
    {
     "data": {
      "image/png": "[encoded data removed]",
      "text/plain": [
       "<Figure size 432x288 with 1 Axes>"
      ]
     },
     "metadata": {
      "needs_background": "light"
     },
     "output_type": "display_data"
    }
   ],
   "source": [
    "# summarize history for accuracy\n",
    "plt.plot(history.history['accuracy'])\n",
    "plt.plot(history.history['val_accuracy'])\n",
    "plt.title('model accuracy')\n",
    "plt.ylabel('accuracy')\n",
    "plt.xlabel('epoch')\n",
    "plt.legend(['train', 'validation'], loc='upper left')\n",
    "plt.show()\n"
   ]
  },
  {
   "cell_type": "code",
   "execution_count": 24,
   "metadata": {},
   "outputs": [
    {
     "name": "stdout",
     "output_type": "stream",
     "text": [
      "\r",
      "400/1 [================================================================================================================================================================================================================================================================================================================================================================================================================================================================================================================================================================================================================================================================================================================================================================================================================================================================================================================================================================================================================================================================================================================================================================================================================================================================================================================================================================================================================================================================================================================================================================================================================================================================================================================================================================================================================================================================================================================================================================================================================================================================================================================================================================================================================================================================================================================================================================================================================================================================================================================================================================================================================================================================================================================================================================================================================================================================================================================================================================================================================================================================================================================================================================================================================================================================================================================================================================================================================================================================================================================================================================================================================================================================================================================================================================================================================================================================================================================================================================================================================================================================================================================================================================================================================================================================================================================================================================================================================================================================================================================================================================================================================================================================================================================================================================================================================================================================================================================================================================================================================================================================================================================================================================================================================================================================================================================================================================================================================================================================================================================================================================================================================================================================================================================================================================================================================================================================================================================================================================================================================================================================================================================================================================================================================================================================================================================================================================================================================================================================================================================================================================================================================================================================================================================================================================================================================================================================================================================================================================================================================================================================================================================================================================================================================================================================================================================================================================================================================================================================================================================================================================================================================================================================================================================================================================================================================================================================================================================================================================================================================================================================================================================================================================================================================================================================================================================================================================================================================================================================================================================================================================================================================================================================================================================================================================================================================================================================================================================================================================================================================================================================================================================================================================================================================================================================================================================================================================================================================================================================================================================================================================================================================================================================================================================================================================================================================================================================================================================================================================================================================================================================================================================================================================================================================================================================================================================================================================================================================================================================================================================================================================================================================================================================================================================================================================================================================================================================================================================================================================================================================================================================================================================================================================================================================================================================================================================================================================================================================================================================================================================================================================================================================================================================================================================================================================================================================================================================================================================================================================================================================================================================================================================================================================================================================================================================================================================================================================================================================================================================================================] - 48s 119ms/sample - loss: 0.2089 - accuracy: 0.8925\n"
     ]
    },
    {
     "name": "stdout",
     "output_type": "stream",
     "text": [
      "test loss test acc: [0.3587854669988155, 0.8925]\n"
     ]
    }
   ],
   "source": [
    "results=multi_model.evaluate(X_test_multi,np.array(y_test_multi))\n",
    "print(\"test loss\",\"test acc:\",results)"
   ]
  },
  {
   "cell_type": "code",
   "execution_count": 25,
   "metadata": {},
   "outputs": [],
   "source": [
    "import pickle\n"
   ]
  },
  {
   "cell_type": "code",
   "execution_count": 26,
   "metadata": {},
   "outputs": [],
   "source": [
    "pickle_out = open(\"X_train_multi\",\"wb\")\n",
    "pickle.dump(X_train_multi,pickle_out)\n",
    "pickle_out.close()"
   ]
  },
  {
   "cell_type": "code",
   "execution_count": 27,
   "metadata": {},
   "outputs": [],
   "source": [
    "pickle_out = open(\"y_train_multi\",\"wb\")\n",
    "pickle.dump(y_train_multi,pickle_out)\n",
    "pickle_out.close()"
   ]
  },
  {
   "cell_type": "code",
   "execution_count": 28,
   "metadata": {},
   "outputs": [],
   "source": [
    "pickle_out = open(\"X_test_multi\",\"wb\")\n",
    "pickle.dump(X_test_multi,pickle_out)\n",
    "pickle_out.close()"
   ]
  },
  {
   "cell_type": "code",
   "execution_count": 29,
   "metadata": {},
   "outputs": [],
   "source": [
    "pickle_out = open(\"y_test_multi\",\"wb\")\n",
    "pickle.dump(y_test_multi,pickle_out)\n",
    "pickle_out.close()"
   ]
  },
  {
   "cell_type": "code",
   "execution_count": null,
   "metadata": {},
   "outputs": [],
   "source": []
  },
  {
   "cell_type": "code",
   "execution_count": null,
   "metadata": {},
   "outputs": [],
   "source": []
  },
  {
   "cell_type": "code",
   "execution_count": null,
   "metadata": {},
   "outputs": [],
   "source": [
    "import requests\n",
    "from PIL import Image\n",
    "import urllib\n",
    "import numpy as np\n",
    "import tensorflow as tf\n",
    "import h5py\n",
    "import cv2"
   ]
  },
  {
   "cell_type": "code",
   "execution_count": null,
   "metadata": {},
   "outputs": [],
   "source": [
    "from tensorflow.keras.models import load_model"
   ]
  },
  {
   "cell_type": "code",
   "execution_count": null,
   "metadata": {},
   "outputs": [],
   "source": [
    "model = load_model('model.h5',compile=False)"
   ]
  },
  {
   "cell_type": "code",
   "execution_count": null,
   "metadata": {},
   "outputs": [],
   "source": [
    "img_arr= cv2.imread(\"dog-1210559__340.jpg\")\n",
    "img =cv2.cvtColor(img_arr, cv2.COLOR_BGR2RGB)"
   ]
  },
  {
   "cell_type": "code",
   "execution_count": null,
   "metadata": {},
   "outputs": [],
   "source": [
    "IMG_SIZE=200\n",
    "new_array=cv2.resize(img,(IMG_SIZE,IMG_SIZE))"
   ]
  },
  {
   "cell_type": "code",
   "execution_count": null,
   "metadata": {},
   "outputs": [],
   "source": [
    "image = np.expand_dims(new_array, axis=0)\n",
    "#model_input = np.array([new_array])"
   ]
  },
  {
   "cell_type": "code",
   "execution_count": null,
   "metadata": {},
   "outputs": [],
   "source": [
    "prediction = model.predict([image])"
   ]
  },
  {
   "cell_type": "code",
   "execution_count": null,
   "metadata": {},
   "outputs": [],
   "source": [
    "prediction"
   ]
  },
  {
   "cell_type": "code",
   "execution_count": null,
   "metadata": {},
   "outputs": [],
   "source": [
    "prediction[0][0]"
   ]
  },
  {
   "cell_type": "code",
   "execution_count": null,
   "metadata": {},
   "outputs": [],
   "source": [
    "X.shape"
   ]
  },
  {
   "cell_type": "code",
   "execution_count": null,
   "metadata": {},
   "outputs": [],
   "source": [
    "img_arr=cv2.imread(os.path.join(path,img))\n",
    "                    img_arr=cv2.cvtColor(img_arr, cv2.COLOR_BGR2RGB)\n",
    "                    "
   ]
  }
 ],
 "metadata": {
  "kernelspec": {
   "display_name": "Python 3",
   "language": "python",
   "name": "python3"
  },
  "language_info": {
   "codemirror_mode": {
    "name": "ipython",
    "version": 3
   },
   "file_extension": ".py",
   "mimetype": "text/x-python",
   "name": "python",
   "nbconvert_exporter": "python",
   "pygments_lexer": "ipython3",
   "version": "3.7.3"
  }
 },
 "nbformat": 4,
 "nbformat_minor": 4
}
