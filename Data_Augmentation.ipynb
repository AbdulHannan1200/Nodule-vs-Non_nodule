{
 "cells": [
  {
   "cell_type": "code",
   "execution_count": 1,
   "metadata": {},
   "outputs": [],
   "source": [
    "import os\n",
    "import cv2\n",
    "import matplotlib.pyplot as plt\n",
    "import pandas as pd"
   ]
  },
  {
   "cell_type": "code",
   "execution_count": 2,
   "metadata": {},
   "outputs": [],
   "source": [
    "import tensorflow"
   ]
  },
  {
   "cell_type": "code",
   "execution_count": 3,
   "metadata": {},
   "outputs": [],
   "source": [
    "from tensorflow.keras.preprocessing.image import ImageDataGenerator, array_to_img, img_to_array, load_img\n",
    "import PIL"
   ]
  },
  {
   "cell_type": "code",
   "execution_count": 4,
   "metadata": {},
   "outputs": [],
   "source": [
    "DATA_DIR = os.getcwd()\n",
    "DATA_DIR = DATA_DIR + \"\\\\\" + \"images\"\n",
    "#CATEGORIES_FOLDER=[\"nodule\"]\n",
    "CATEGORIES_FOLDER=[\"benign\"]"
   ]
  },
  {
   "cell_type": "code",
   "execution_count": 5,
   "metadata": {},
   "outputs": [],
   "source": [
    "datagen = ImageDataGenerator(\n",
    "        rotation_range=25,\n",
    "        width_shift_range=0.2,\n",
    "        height_shift_range=0.2,\n",
    "        shear_range=0.2,\n",
    "        zoom_range=0.2,\n",
    "        fill_mode='nearest')"
   ]
  },
  {
   "cell_type": "code",
   "execution_count": 6,
   "metadata": {},
   "outputs": [
    {
     "name": "stdout",
     "output_type": "stream",
     "text": [
      "D:\\A.H\\Python\\Fiver_X-ray\\images\\benign\n",
      "benign\n",
      "D:\\A.H\\Python\\Fiver_X-ray\\images\\benign\\JPCLN002.png\n",
      "D:\\A.H\\Python\\Fiver_X-ray\\images\\benign\\JPCLN004.png\n",
      "D:\\A.H\\Python\\Fiver_X-ray\\images\\benign\\JPCLN006.png\n",
      "D:\\A.H\\Python\\Fiver_X-ray\\images\\benign\\JPCLN008.png\n",
      "D:\\A.H\\Python\\Fiver_X-ray\\images\\benign\\JPCLN011.png\n",
      "D:\\A.H\\Python\\Fiver_X-ray\\images\\benign\\JPCLN013.png\n",
      "D:\\A.H\\Python\\Fiver_X-ray\\images\\benign\\JPCLN024.png\n",
      "D:\\A.H\\Python\\Fiver_X-ray\\images\\benign\\JPCLN025.png\n",
      "D:\\A.H\\Python\\Fiver_X-ray\\images\\benign\\JPCLN026.png\n",
      "D:\\A.H\\Python\\Fiver_X-ray\\images\\benign\\JPCLN030.png\n",
      "D:\\A.H\\Python\\Fiver_X-ray\\images\\benign\\JPCLN034.png\n",
      "D:\\A.H\\Python\\Fiver_X-ray\\images\\benign\\JPCLN036.png\n",
      "D:\\A.H\\Python\\Fiver_X-ray\\images\\benign\\JPCLN043.png\n",
      "D:\\A.H\\Python\\Fiver_X-ray\\images\\benign\\JPCLN048.png\n",
      "D:\\A.H\\Python\\Fiver_X-ray\\images\\benign\\JPCLN049.png\n",
      "D:\\A.H\\Python\\Fiver_X-ray\\images\\benign\\JPCLN055.png\n",
      "D:\\A.H\\Python\\Fiver_X-ray\\images\\benign\\JPCLN058.png\n",
      "D:\\A.H\\Python\\Fiver_X-ray\\images\\benign\\JPCLN060.png\n",
      "D:\\A.H\\Python\\Fiver_X-ray\\images\\benign\\JPCLN061.png\n",
      "D:\\A.H\\Python\\Fiver_X-ray\\images\\benign\\JPCLN066.png\n",
      "D:\\A.H\\Python\\Fiver_X-ray\\images\\benign\\JPCLN068.png\n",
      "D:\\A.H\\Python\\Fiver_X-ray\\images\\benign\\JPCLN070.png\n",
      "D:\\A.H\\Python\\Fiver_X-ray\\images\\benign\\JPCLN075.png\n",
      "D:\\A.H\\Python\\Fiver_X-ray\\images\\benign\\JPCLN078.png\n",
      "D:\\A.H\\Python\\Fiver_X-ray\\images\\benign\\JPCLN079.png\n",
      "D:\\A.H\\Python\\Fiver_X-ray\\images\\benign\\JPCLN087.png\n",
      "D:\\A.H\\Python\\Fiver_X-ray\\images\\benign\\JPCLN089.png\n",
      "D:\\A.H\\Python\\Fiver_X-ray\\images\\benign\\JPCLN094.png\n",
      "D:\\A.H\\Python\\Fiver_X-ray\\images\\benign\\JPCLN096.png\n",
      "D:\\A.H\\Python\\Fiver_X-ray\\images\\benign\\JPCLN098.png\n",
      "D:\\A.H\\Python\\Fiver_X-ray\\images\\benign\\JPCLN100.png\n",
      "D:\\A.H\\Python\\Fiver_X-ray\\images\\benign\\JPCLN101.png\n",
      "D:\\A.H\\Python\\Fiver_X-ray\\images\\benign\\JPCLN102.png\n",
      "D:\\A.H\\Python\\Fiver_X-ray\\images\\benign\\JPCLN107.png\n",
      "D:\\A.H\\Python\\Fiver_X-ray\\images\\benign\\JPCLN111.png\n",
      "D:\\A.H\\Python\\Fiver_X-ray\\images\\benign\\JPCLN115.png\n",
      "D:\\A.H\\Python\\Fiver_X-ray\\images\\benign\\JPCLN119.png\n",
      "D:\\A.H\\Python\\Fiver_X-ray\\images\\benign\\JPCLN121.png\n",
      "D:\\A.H\\Python\\Fiver_X-ray\\images\\benign\\JPCLN122.png\n",
      "D:\\A.H\\Python\\Fiver_X-ray\\images\\benign\\JPCLN123.png\n",
      "D:\\A.H\\Python\\Fiver_X-ray\\images\\benign\\JPCLN124.png\n",
      "D:\\A.H\\Python\\Fiver_X-ray\\images\\benign\\JPCLN127.png\n",
      "D:\\A.H\\Python\\Fiver_X-ray\\images\\benign\\JPCLN135.png\n",
      "D:\\A.H\\Python\\Fiver_X-ray\\images\\benign\\JPCLN136.png\n",
      "D:\\A.H\\Python\\Fiver_X-ray\\images\\benign\\JPCLN137.png\n",
      "D:\\A.H\\Python\\Fiver_X-ray\\images\\benign\\JPCLN138.png\n",
      "D:\\A.H\\Python\\Fiver_X-ray\\images\\benign\\JPCLN139.png\n",
      "D:\\A.H\\Python\\Fiver_X-ray\\images\\benign\\JPCLN141.png\n",
      "D:\\A.H\\Python\\Fiver_X-ray\\images\\benign\\JPCLN142.png\n",
      "D:\\A.H\\Python\\Fiver_X-ray\\images\\benign\\JPCLN144.png\n",
      "D:\\A.H\\Python\\Fiver_X-ray\\images\\benign\\JPCLN146.png\n",
      "D:\\A.H\\Python\\Fiver_X-ray\\images\\benign\\JPCLN148.png\n",
      "D:\\A.H\\Python\\Fiver_X-ray\\images\\benign\\JPCLN149.png\n",
      "D:\\A.H\\Python\\Fiver_X-ray\\images\\benign\\JPCLN152.png\n"
     ]
    }
   ],
   "source": [
    "for category in CATEGORIES_FOLDER:\n",
    "    path=os.path.join(DATA_DIR,category) \n",
    "    print(path)\n",
    "    img_path=path.split('\\\\')\n",
    "    img_folder=img_path[-1]\n",
    "    print(img_folder)\n",
    "    for img in os.listdir(path):\n",
    "        print(path+\"\\\\\"+img)\n",
    "        \n",
    "        inner_path=path+\"\\\\\"+img\n",
    "        img = load_img(inner_path)\n",
    "        x = img_to_array(img)  \n",
    "        x = x.reshape((1,) + x.shape)\n",
    "        x.shape\n",
    "        i = 0\n",
    "        \n",
    "        for batch in datagen.flow(x, batch_size=1,\n",
    "                                  save_to_dir=path,save_format='png'):\n",
    "            i += 1\n",
    "            if i >45:\n",
    "                 break\n",
    "        \n",
    "        "
   ]
  },
  {
   "cell_type": "code",
   "execution_count": 7,
   "metadata": {},
   "outputs": [
    {
     "name": "stdout",
     "output_type": "stream",
     "text": [
      "2430\n"
     ]
    }
   ],
   "source": [
    "print(45*54)"
   ]
  },
  {
   "cell_type": "code",
   "execution_count": 8,
   "metadata": {},
   "outputs": [
    {
     "name": "stdout",
     "output_type": "stream",
     "text": [
      "2604\n"
     ]
    }
   ],
   "source": [
    "print(28*93)"
   ]
  },
  {
   "cell_type": "code",
   "execution_count": null,
   "metadata": {},
   "outputs": [],
   "source": []
  }
 ],
 "metadata": {
  "kernelspec": {
   "display_name": "Python 3",
   "language": "python",
   "name": "python3"
  },
  "language_info": {
   "codemirror_mode": {
    "name": "ipython",
    "version": 3
   },
   "file_extension": ".py",
   "mimetype": "text/x-python",
   "name": "python",
   "nbconvert_exporter": "python",
   "pygments_lexer": "ipython3",
   "version": "3.7.3"
  }
 },
 "nbformat": 4,
 "nbformat_minor": 4
}
