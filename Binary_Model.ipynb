{
 "cells": [
  {
   "cell_type": "code",
   "execution_count": 1,
   "metadata": {},
   "outputs": [],
   "source": [
    "import numpy as np\n",
    "import pandas as pd\n",
    "import os\n",
    "import cv2"
   ]
  },
  {
   "cell_type": "code",
   "execution_count": 2,
   "metadata": {},
   "outputs": [],
   "source": [
    "import random"
   ]
  },
  {
   "cell_type": "code",
   "execution_count": 3,
   "metadata": {},
   "outputs": [],
   "source": [
    "def Data_Pre_Processing(DATA_DIR,CATEGORIES):\n",
    "    training_data=[]\n",
    "    IMG_SIZE=200\n",
    "    def create_training_data():\n",
    "        for category in CATEGORIES:\n",
    "            path=os.path.join(DATA_DIR,category) #path to cats and dogs\n",
    "            class_num=CATEGORIES.index(category)\n",
    "            for img in os.listdir(path):\n",
    "                try:\n",
    "                    img_arr=cv2.imread(os.path.join(path,img))\n",
    "                    img_arr=cv2.cvtColor(img_arr, cv2.COLOR_BGR2RGB)\n",
    "                    new_array=cv2.resize(img_arr,(IMG_SIZE,IMG_SIZE))\n",
    "                    training_data.append([new_array,class_num])\n",
    "                except Exception as e:\n",
    "                    pass\n",
    "        \n",
    "    create_training_data()\n",
    "    random.shuffle(training_data)\n",
    "    \n",
    "    X=[]\n",
    "    y=[]\n",
    "\n",
    "    for features,label in training_data:\n",
    "        X.append(features)\n",
    "        y.append(label)\n",
    "\n",
    "\n",
    "    X=np.array(X).reshape(-1,IMG_SIZE,IMG_SIZE,3)\n",
    "\n",
    "\n",
    "    return X,y"
   ]
  },
  {
   "cell_type": "code",
   "execution_count": 4,
   "metadata": {},
   "outputs": [
    {
     "name": "stdout",
     "output_type": "stream",
     "text": [
      "D:\\A.H\\Python\\Fiver_X-ray\\images\n"
     ]
    }
   ],
   "source": [
    "dirname = os.getcwd()\n",
    "imges_folder = \"images\"  \n",
    "DATA_DIR = dirname +\"\\\\\"+imges_folder\n",
    "print(DATA_DIR)"
   ]
  },
  {
   "cell_type": "code",
   "execution_count": 5,
   "metadata": {},
   "outputs": [],
   "source": [
    "categories = ['nodule','non-nodule']"
   ]
  },
  {
   "cell_type": "code",
   "execution_count": 6,
   "metadata": {},
   "outputs": [],
   "source": [
    "X,y = Data_Pre_Processing(DATA_DIR,categories)"
   ]
  },
  {
   "cell_type": "code",
   "execution_count": 7,
   "metadata": {},
   "outputs": [
    {
     "data": {
      "text/plain": [
       "5087"
      ]
     },
     "execution_count": 7,
     "metadata": {},
     "output_type": "execute_result"
    }
   ],
   "source": [
    "len(X)"
   ]
  },
  {
   "cell_type": "code",
   "execution_count": 8,
   "metadata": {},
   "outputs": [
    {
     "name": "stdout",
     "output_type": "stream",
     "text": [
      "1\n",
      "0\n",
      "0\n",
      "1\n",
      "0\n"
     ]
    }
   ],
   "source": [
    "for i in range(5):\n",
    "    print(y[i])"
   ]
  },
  {
   "cell_type": "code",
   "execution_count": 9,
   "metadata": {},
   "outputs": [],
   "source": [
    "input_shape = (200, 200, 3)"
   ]
  },
  {
   "cell_type": "code",
   "execution_count": null,
   "metadata": {},
   "outputs": [],
   "source": []
  },
  {
   "cell_type": "code",
   "execution_count": 10,
   "metadata": {},
   "outputs": [],
   "source": [
    "from tensorflow.keras.applications import vgg16\n",
    "from tensorflow.keras.models import Model\n",
    "import tensorflow.keras"
   ]
  },
  {
   "cell_type": "code",
   "execution_count": 11,
   "metadata": {},
   "outputs": [],
   "source": [
    "from tensorflow.keras.layers import Conv2D, MaxPooling2D, Flatten, Dense, Dropout, InputLayer\n",
    "from tensorflow.keras.models import Sequential\n",
    "from tensorflow.keras import optimizers"
   ]
  },
  {
   "cell_type": "code",
   "execution_count": 13,
   "metadata": {},
   "outputs": [],
   "source": [
    "X_train=X[:4887]\n",
    "X_test=X[4887:]\n",
    "y_train=y[:4887]\n",
    "y_test=y[4887:]"
   ]
  },
  {
   "cell_type": "code",
   "execution_count": 14,
   "metadata": {},
   "outputs": [
    {
     "data": {
      "text/plain": [
       "4887"
      ]
     },
     "execution_count": 14,
     "metadata": {},
     "output_type": "execute_result"
    }
   ],
   "source": [
    "len(X_train)"
   ]
  },
  {
   "cell_type": "code",
   "execution_count": 15,
   "metadata": {},
   "outputs": [
    {
     "data": {
      "text/plain": [
       "200"
      ]
     },
     "execution_count": 15,
     "metadata": {},
     "output_type": "execute_result"
    }
   ],
   "source": [
    "len(X_test)"
   ]
  },
  {
   "cell_type": "code",
   "execution_count": 17,
   "metadata": {},
   "outputs": [
    {
     "name": "stdout",
     "output_type": "stream",
     "text": [
      "Downloading data from https://github.com/fchollet/deep-learning-models/releases/download/v0.1/vgg16_weights_tf_dim_ordering_tf_kernels_notop.h5\n",
      "58892288/58889256 [==============================] - 209s 4us/step\n"
     ]
    }
   ],
   "source": [
    "vgg = vgg16.VGG16(include_top=False, weights='imagenet', \n",
    "                                     input_shape=input_shape)\n",
    "\n",
    "output = vgg.layers[-1].output\n",
    "output =tensorflow.keras.layers.Flatten()(output)\n",
    "vgg_model = Model(vgg.input, output)\n",
    "\n",
    "# vgg_model.trainable = False\n",
    "# for layer in vgg_model.layers:\n",
    "#     layer.trainable = False"
   ]
  },
  {
   "cell_type": "code",
   "execution_count": 18,
   "metadata": {},
   "outputs": [],
   "source": [
    "vgg_model.trainable = True\n",
    "\n",
    "set_trainable = False\n",
    "for layer in vgg_model.layers:\n",
    "    if layer.name in ['block5_conv1', 'block4_conv1']:\n",
    "        set_trainable = True\n",
    "    if set_trainable:\n",
    "        layer.trainable = True\n",
    "    else:\n",
    "        layer.trainable = False"
   ]
  },
  {
   "cell_type": "code",
   "execution_count": 19,
   "metadata": {},
   "outputs": [
    {
     "name": "stdout",
     "output_type": "stream",
     "text": [
      "Model: \"sequential\"\n",
      "_________________________________________________________________\n",
      "Layer (type)                 Output Shape              Param #   \n",
      "=================================================================\n",
      "model (Model)                (None, 18432)             14714688  \n",
      "_________________________________________________________________\n",
      "dense (Dense)                (None, 512)               9437696   \n",
      "_________________________________________________________________\n",
      "dropout (Dropout)            (None, 512)               0         \n",
      "_________________________________________________________________\n",
      "dense_1 (Dense)              (None, 512)               262656    \n",
      "_________________________________________________________________\n",
      "dropout_1 (Dropout)          (None, 512)               0         \n",
      "_________________________________________________________________\n",
      "dense_2 (Dense)              (None, 1)                 513       \n",
      "=================================================================\n",
      "Total params: 24,415,553\n",
      "Trainable params: 22,680,065\n",
      "Non-trainable params: 1,735,488\n",
      "_________________________________________________________________\n"
     ]
    }
   ],
   "source": [
    "bin_model = Sequential()\n",
    "bin_model.add(vgg_model)\n",
    "bin_model.add(Dense(512, activation='relu', input_dim=input_shape))\n",
    "bin_model.add(Dropout(0.3))\n",
    "bin_model.add(Dense(512, activation='relu'))\n",
    "bin_model.add(Dropout(0.3))\n",
    "bin_model.add(Dense(1, activation='sigmoid'))\n",
    "\n",
    "bin_model.compile(loss='binary_crossentropy',\n",
    "              optimizer=optimizers.RMSprop(lr=1e-5),\n",
    "              metrics=['accuracy'])\n",
    "              \n",
    "bin_model.summary()"
   ]
  },
  {
   "cell_type": "code",
   "execution_count": 20,
   "metadata": {},
   "outputs": [
    {
     "name": "stdout",
     "output_type": "stream",
     "text": [
      "Train on 3909 samples, validate on 978 samples\n",
      "Epoch 1/10\n",
      "3909/3909 [==============================] - 1101s 282ms/sample - loss: 1.1026 - accuracy: 0.5293 - val_loss: 0.6780 - val_accuracy: 0.5481\n",
      "Epoch 2/10\n",
      "3909/3909 [==============================] - 1099s 281ms/sample - loss: 0.6545 - accuracy: 0.6163 - val_loss: 0.6216 - val_accuracy: 0.6288\n",
      "Epoch 3/10\n",
      "3909/3909 [==============================] - 1100s 282ms/sample - loss: 0.5539 - accuracy: 0.7004 - val_loss: 0.5767 - val_accuracy: 0.6840\n",
      "Epoch 4/10\n",
      "3909/3909 [==============================] - 1101s 282ms/sample - loss: 0.4312 - accuracy: 0.7882 - val_loss: 0.4595 - val_accuracy: 0.7699\n",
      "Epoch 5/10\n",
      "3909/3909 [==============================] - 1102s 282ms/sample - loss: 0.3071 - accuracy: 0.8647 - val_loss: 0.4729 - val_accuracy: 0.7710\n",
      "Epoch 6/10\n",
      "3909/3909 [==============================] - 1102s 282ms/sample - loss: 0.2078 - accuracy: 0.9138 - val_loss: 0.3604 - val_accuracy: 0.8354\n",
      "Epoch 7/10\n",
      "3909/3909 [==============================] - 1101s 282ms/sample - loss: 0.1342 - accuracy: 0.9478 - val_loss: 0.5442 - val_accuracy: 0.7986\n",
      "Epoch 8/10\n",
      "3909/3909 [==============================] - 1100s 282ms/sample - loss: 0.0865 - accuracy: 0.9688 - val_loss: 0.2290 - val_accuracy: 0.9059\n",
      "Epoch 9/10\n",
      "3909/3909 [==============================] - 1100s 281ms/sample - loss: 0.0529 - accuracy: 0.9806 - val_loss: 0.3180 - val_accuracy: 0.8814\n",
      "Epoch 10/10\n",
      "3909/3909 [==============================] - 1099s 281ms/sample - loss: 0.0389 - accuracy: 0.9852 - val_loss: 0.3105 - val_accuracy: 0.8875\n"
     ]
    }
   ],
   "source": [
    "history = bin_model.fit(X_train,np.array(y_train),epochs=10,\n",
    "                              validation_split=0.2)"
   ]
  },
  {
   "cell_type": "code",
   "execution_count": 21,
   "metadata": {},
   "outputs": [],
   "source": [
    "import h5py"
   ]
  },
  {
   "cell_type": "code",
   "execution_count": 22,
   "metadata": {},
   "outputs": [],
   "source": [
    "bin_model.save(\"bin_model.h5\")"
   ]
  },
  {
   "cell_type": "code",
   "execution_count": 23,
   "metadata": {},
   "outputs": [
    {
     "data": {
      "text/plain": [
       "{'loss': [1.1026019721300775,\n",
       "  0.6545006804345483,\n",
       "  0.5538912443713356,\n",
       "  0.43123271258537893,\n",
       "  0.307081796333716,\n",
       "  0.207830372933812,\n",
       "  0.134214445727504,\n",
       "  0.086519653453611,\n",
       "  0.052924235011853886,\n",
       "  0.03893074126672823],\n",
       " 'accuracy': [0.5292914,\n",
       "  0.6162701,\n",
       "  0.7004349,\n",
       "  0.7881811,\n",
       "  0.8646713,\n",
       "  0.9137887,\n",
       "  0.94781274,\n",
       "  0.96879,\n",
       "  0.9805577,\n",
       "  0.98516244],\n",
       " 'val_loss': [0.6779595119821513,\n",
       "  0.621563631454616,\n",
       "  0.5767211775106886,\n",
       "  0.4595412077469816,\n",
       "  0.4728801486316634,\n",
       "  0.3604124864308137,\n",
       "  0.5441974530068887,\n",
       "  0.2289786695337003,\n",
       "  0.31795747299318666,\n",
       "  0.3104933578147722],\n",
       " 'val_accuracy': [0.54805726,\n",
       "  0.62883437,\n",
       "  0.68404907,\n",
       "  0.76993865,\n",
       "  0.77096117,\n",
       "  0.83537835,\n",
       "  0.7985685,\n",
       "  0.90593046,\n",
       "  0.8813906,\n",
       "  0.88752556]}"
      ]
     },
     "execution_count": 23,
     "metadata": {},
     "output_type": "execute_result"
    }
   ],
   "source": [
    "history.history"
   ]
  },
  {
   "cell_type": "code",
   "execution_count": 24,
   "metadata": {},
   "outputs": [],
   "source": [
    "import matplotlib.pyplot as plt"
   ]
  },
  {
   "cell_type": "code",
   "execution_count": 25,
   "metadata": {},
   "outputs": [
    {
     "data": {
      "image/png": "[encoded data removed]",
      "text/plain": [
       "<Figure size 432x288 with 1 Axes>"
      ]
     },
     "metadata": {
      "needs_background": "light"
     },
     "output_type": "display_data"
    }
   ],
   "source": [
    "# summarize history for accuracy\n",
    "plt.plot(history.history['accuracy'])\n",
    "plt.plot(history.history['val_accuracy'])\n",
    "plt.title('model accuracy')\n",
    "plt.ylabel('accuracy')\n",
    "plt.xlabel('epoch')\n",
    "plt.legend(['train', 'validation'], loc='upper left')\n",
    "plt.show()\n"
   ]
  },
  {
   "cell_type": "code",
   "execution_count": 28,
   "metadata": {},
   "outputs": [
    {
     "name": "stdout",
     "output_type": "stream",
     "text": [
      "200/1 [================================================================================================================================================================================================================================================================================================================================================================================================================================================================================================================================================================================================================================================================================================================================================================================================================================================================================================================================================================================================================================================================================================================================================================================================================================================================================================================================================================================================================================================================================================================================================================================================================================================================================================================================================================================================================================================================================================================================================================================================================================================================================================================================================================================================================================================================================================================================================================================================================================================================================================================================================================================================================================================================================================================================================================================================================================================================================================================================================================================================================================================================================================================================================================================================================================================================================================================================================================================================================================================================================================================================================================================================================================================================================================================================================================================================================================================================================================================================================================================================================================================================================================================================================================================================================================================================================================================================================================================================================================================================================================================================================================================================================================================================================================================================================================================================================================================================================================================================================================================================================================================================================================================================================================================================================================================================================================================================================================================================================================================================================================================================================================================================================================================================================================================================================================================================================================================================================================================================================================================================================================================================================================================================================================================================================================================] - 24s 118ms/sample - loss: 0.3285 - accuracy: 0.8650\n",
      "test loss test acc: [0.3344579613208771, 0.865]\n"
     ]
    }
   ],
   "source": [
    "results=bin_model.evaluate(X_test,np.array(y_test))\n",
    "print(\"test loss\",\"test acc:\",results)"
   ]
  },
  {
   "cell_type": "code",
   "execution_count": 29,
   "metadata": {},
   "outputs": [],
   "source": [
    "import pickle\n"
   ]
  },
  {
   "cell_type": "code",
   "execution_count": 30,
   "metadata": {},
   "outputs": [],
   "source": [
    "pickle_out = open(\"X_train\",\"wb\")\n",
    "pickle.dump(X_train,pickle_out)\n",
    "pickle_out.close()"
   ]
  },
  {
   "cell_type": "code",
   "execution_count": 31,
   "metadata": {},
   "outputs": [],
   "source": [
    "pickle_out = open(\"y_train\",\"wb\")\n",
    "pickle.dump(y_train,pickle_out)\n",
    "pickle_out.close()"
   ]
  },
  {
   "cell_type": "code",
   "execution_count": 32,
   "metadata": {},
   "outputs": [],
   "source": [
    "pickle_out = open(\"X_test\",\"wb\")\n",
    "pickle.dump(X_test,pickle_out)\n",
    "pickle_out.close()"
   ]
  },
  {
   "cell_type": "code",
   "execution_count": 33,
   "metadata": {},
   "outputs": [],
   "source": [
    "pickle_out = open(\"y_test\",\"wb\")\n",
    "pickle.dump(y_test,pickle_out)\n",
    "pickle_out.close()"
   ]
  },
  {
   "cell_type": "code",
   "execution_count": null,
   "metadata": {},
   "outputs": [],
   "source": []
  },
  {
   "cell_type": "code",
   "execution_count": 26,
   "metadata": {},
   "outputs": [],
   "source": [
    "import requests\n",
    "from PIL import Image\n",
    "import urllib\n",
    "import numpy as np\n",
    "import tensorflow as tf\n",
    "import h5py\n",
    "import cv2"
   ]
  },
  {
   "cell_type": "code",
   "execution_count": null,
   "metadata": {},
   "outputs": [],
   "source": [
    "from tensorflow.keras.models import load_model"
   ]
  },
  {
   "cell_type": "code",
   "execution_count": null,
   "metadata": {},
   "outputs": [],
   "source": [
    "model = load_model('model.h5',compile=False)"
   ]
  },
  {
   "cell_type": "code",
   "execution_count": null,
   "metadata": {},
   "outputs": [],
   "source": [
    "img_arr= cv2.imread(\"dog-1210559__340.jpg\")\n",
    "img =cv2.cvtColor(img_arr, cv2.COLOR_BGR2RGB)"
   ]
  },
  {
   "cell_type": "code",
   "execution_count": null,
   "metadata": {},
   "outputs": [],
   "source": [
    "IMG_SIZE=200\n",
    "new_array=cv2.resize(img,(IMG_SIZE,IMG_SIZE))"
   ]
  },
  {
   "cell_type": "code",
   "execution_count": null,
   "metadata": {},
   "outputs": [],
   "source": [
    "image = np.expand_dims(new_array, axis=0)\n",
    "#model_input = np.array([new_array])"
   ]
  },
  {
   "cell_type": "code",
   "execution_count": null,
   "metadata": {},
   "outputs": [],
   "source": [
    "prediction = model.predict([image])"
   ]
  },
  {
   "cell_type": "code",
   "execution_count": null,
   "metadata": {},
   "outputs": [],
   "source": [
    "prediction"
   ]
  },
  {
   "cell_type": "code",
   "execution_count": null,
   "metadata": {},
   "outputs": [],
   "source": [
    "prediction[0][0]"
   ]
  },
  {
   "cell_type": "code",
   "execution_count": null,
   "metadata": {},
   "outputs": [],
   "source": [
    "X.shape"
   ]
  },
  {
   "cell_type": "code",
   "execution_count": null,
   "metadata": {},
   "outputs": [],
   "source": [
    "img_arr=cv2.imread(os.path.join(path,img))\n",
    "                    img_arr=cv2.cvtColor(img_arr, cv2.COLOR_BGR2RGB)\n",
    "                    "
   ]
  }
 ],
 "metadata": {
  "kernelspec": {
   "display_name": "Python 3",
   "language": "python",
   "name": "python3"
  },
  "language_info": {
   "codemirror_mode": {
    "name": "ipython",
    "version": 3
   },
   "file_extension": ".py",
   "mimetype": "text/x-python",
   "name": "python",
   "nbconvert_exporter": "python",
   "pygments_lexer": "ipython3",
   "version": "3.7.3"
  }
 },
 "nbformat": 4,
 "nbformat_minor": 4
}
